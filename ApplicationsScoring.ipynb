{
  "nbformat": 4,
  "nbformat_minor": 0,
  "metadata": {
    "colab": {
      "provenance": [],
      "authorship_tag": "ABX9TyPhvmZYSxp56OSIe5BHxYgc",
      "include_colab_link": true
    },
    "kernelspec": {
      "name": "python3",
      "display_name": "Python 3"
    },
    "language_info": {
      "name": "python"
    }
  },
  "cells": [
    {
      "cell_type": "markdown",
      "metadata": {
        "id": "view-in-github",
        "colab_type": "text"
      },
      "source": [
        "<a href=\"https://colab.research.google.com/github/jaruizes/AI-CVMatcher/blob/main/ApplicationsScoring.ipynb\" target=\"_parent\"><img src=\"https://colab.research.google.com/assets/colab-badge.svg\" alt=\"Open In Colab\"/></a>"
      ]
    },
    {
      "cell_type": "markdown",
      "source": [
        "Importamos las librerías necesarias"
      ],
      "metadata": {
        "id": "Ckbbzdy2YHlm"
      }
    },
    {
      "cell_type": "code",
      "source": [
        "import pandas as pd\n",
        "import numpy as np\n",
        "from sklearn.feature_extraction.text import TfidfVectorizer\n",
        "from sklearn.metrics.pairwise import cosine_similarity\n",
        "from sentence_transformers import SentenceTransformer"
      ],
      "metadata": {
        "id": "HHJXBC4ZYME0"
      },
      "execution_count": 45,
      "outputs": []
    },
    {
      "cell_type": "markdown",
      "source": [
        "Creamos los datos de prueba de la posición de ***\"Arquitecto de Soluciones\"***\n"
      ],
      "metadata": {
        "id": "_p-QOCBKYUz6"
      }
    },
    {
      "cell_type": "code",
      "source": [
        "offer_description = \"Buscamos un arquitecto de soluciones con experiencia en diseño de arquitecturas escalables en la nube y microservicios.\"\n",
        "offer_requirements = [\n",
        "    {\"skill\": \"Software Architecture\", \"level\": \"experto\", \"desc\": \"Experiencia en diseño de arquitecturas escalables y resilientes.\", \"mandatory\": \"true\"},\n",
        "    {\"skill\": \"Microservices\", \"level\": \"experto\", \"desc\": \"Implementación de arquitecturas basadas en microservicios.\", \"mandatory\": \"true\"},\n",
        "    {\"skill\": \"Cloud\", \"level\": \"experto\", \"desc\": \"Experiencia con AWS, Azure o GCP\", \"mandatory\": \"true\"},\n",
        "    {\"skill\": \"Kubernetes\", \"level\": \"medio\", \"desc\": \"Despliegue y gestión de aplicaciones en contenedores.\", \"mandatory\": \"true\"},\n",
        "    {\"skill\": \"API\", \"level\": \"inicial\", \"desc\": \"Diseño de APIs REST y GraphQL.\", \"mandatory\": \"false\"}\n",
        "]\n",
        "offer_tasks = [\"design scalable and high-performance architectures in the cloud\",\n",
        "               \"Asesorar a equipos de desarrollo en mejores prácticas de software\",\n",
        "               \"Diseñar e implementar estrategias de integración entre servicios\",\n",
        "               \"Garantizar la seguridad y gobernanza de las aplicaciones empresariales\"]\n",
        "offer_tags = [\"Architecture\", \"Cloud\", \"Microservices\", \"AWS\", \"Kubernetes\", \"Software Design\"]"
      ],
      "metadata": {
        "id": "i4tuBL_VYWl-"
      },
      "execution_count": 160,
      "outputs": []
    },
    {
      "cell_type": "markdown",
      "source": [
        "Creamos los datos de prueba de la posición de ***\"Desarrollador Front\"***\n",
        "\n"
      ],
      "metadata": {
        "id": "Vdii3VpDojLk"
      }
    },
    {
      "cell_type": "code",
      "source": [
        "offer_description = \"Buscamos un desarrollador frontend con experiencia en React y TypeScript para construir interfaces modernas y escalables.\"\n",
        "offer_requirements = [\n",
        "    {\"skill\": \"React\", \"level\": \"experto\", \"desc\": \"Experiencia en desarrollo con React y gestión de estado (Redux, Context API).\", \"mandatory\": \"true\"},\n",
        "    {\"skill\": \"Typescript\", \"level\": \"experto\", \"desc\": \"Uso de TypeScript para mejorar la robustez del código.\", \"mandatory\": \"true\"},\n",
        "    {\"skill\": \"CSS/SASS\", \"level\": \"experto\", \"desc\": \"Manejo de estilos avanzados y diseño responsivo.\", \"mandatory\": \"true\"},\n",
        "    {\"skill\": \"UI/UX\", \"level\": \"inicial\", \"desc\": \"Conocimiento en diseño centrado en el usuario.\", \"mandatory\": \"false\"},\n",
        "    {\"skill\": \"Testing\", \"level\": \"inicial\", \"desc\": \"Familiaridad con pruebas unitarias (Jest, React Testing Library).\", \"mandatory\": \"false\"}\n",
        "]\n",
        "offer_tasks = [\"Desarrollar interfaces modernas y escalables con React y TypeScript.\",\n",
        "               \"Colaborar con diseñadores para mejorar la experiencia de usuario.\",\n",
        "               \"Optimizar el rendimiento y accesibilidad de la aplicación.\",\n",
        "               \"Implementar pruebas unitarias para asegurar la calidad del código.\"]\n",
        "offer_tags = [\"Frontend\", \"React\", \"TypeScript\", \"UI/UX\", \"JavaScript\", \"Web Development\"]"
      ],
      "metadata": {
        "id": "NLN681MunUCG"
      },
      "execution_count": 141,
      "outputs": []
    },
    {
      "cell_type": "markdown",
      "source": [
        "Currículum de **Experto en IA**"
      ],
      "metadata": {
        "id": "3BFuPEgAfotz"
      }
    },
    {
      "cell_type": "code",
      "source": [
        "test_cv = {\n",
        "    \"summary\": \"Luis Martínez García is a seasoned professional with over 12 years of experience in developing and implementing artificial intelligence solutions, with a recent focus on Generative AI. He is a recognized speaker at international events on AI, emphasizing how these technologies are transforming industries. Passionate about research and practical applications of advanced AI models, his goal is to lead innovative projects that promote the responsible adoption of artificial intelligence in businesses and organizations. His expertise includes machine learning and deep learning model design, along with proficiency in frameworks such as TensorFlow, PyTorch, and Hugging Face. Additionally, he has experience in cloud data management and MLOps, and is knowledgeable about AI ethics and regulation.\",\n",
        "    \"keyPoints\": [\n",
        "        \"Over 12 years of experience in AI solutions development.\",\n",
        "        \"Expertise in Generative AI and NLP.\",\n",
        "        \"Recognized speaker at international AI conferences.\",\n",
        "        \"Strong background in machine learning and deep learning.\",\n",
        "        \"Experience in MLOps and cloud environments.\"\n",
        "    ],\n",
        "    \"weakPoints\": [\n",
        "        \"Limited experience outside AI and machine learning.\",\n",
        "        \"No formal management experience mentioned.\",\n",
        "        \"Potential overemphasis on Generative AI despite broad AI experience.\",\n",
        "        \"Focus primarily on technical skills with less emphasis on soft skills.\",\n",
        "        \"May require upskilling in emerging AI regulations.\"\n",
        "    ],\n",
        "    \"hardSkills\": [\n",
        "        \"Machine Learning\",\n",
        "        \"Deep Learning\",\n",
        "        \"Generative AI\",\n",
        "        \"Natural Language Processing (NLP)\",\n",
        "        \"MLOps\"\n",
        "    ],\n",
        "    \"softSkills\": [\n",
        "        \"Communication\",\n",
        "        \"Leadership\",\n",
        "        \"Teamwork\",\n",
        "        \"Problem-solving\",\n",
        "        \"Research\"\n",
        "    ],\n",
        "    \"tasksAndResponsabilities\": [\n",
        "        \"Lead development projects based on Generative AI for various sectors.\",\n",
        "        \"Create custom models for text and image generation.\",\n",
        "        \"Implement AI systems in production platforms using Kubernetes and Docker.\",\n",
        "        \"Develop advanced machine learning algorithms for predictive analysis.\",\n",
        "        \"Research NLP models and contribute to scientific publications.\",\n",
        "        \"Supervise research projects in collaboration with universities.\",\n",
        "        \"Design and maintain data pipelines for machine learning projects.\",\n",
        "        \"Train models for classification and data analysis.\"\n",
        "    ],\n",
        "    \"interviewQuestions\": [\n",
        "        \"Can you describe a successful project you led in Generative AI?\",\n",
        "        \"How do you approach the ethical considerations in AI?\",\n",
        "        \"What challenges have you faced when deploying AI solutions in production?\",\n",
        "        \"How do you keep your skills updated in the rapidly evolving AI landscape?\",\n",
        "        \"Can you provide an example of how you've collaborated with cross-functional teams?\"\n",
        "    ],\n",
        "    \"totalYearsExperience\": 12,\n",
        "    \"tags\": [\n",
        "        \"Artificial Intelligence\",\n",
        "        \"Generative AI\",\n",
        "        \"Machine Learning\",\n",
        "        \"Deep Learning\",\n",
        "        \"NLP\",\n",
        "        \"MLOps\"\n",
        "    ]\n",
        "}"
      ],
      "metadata": {
        "id": "idk-pqg2fs1G"
      },
      "execution_count": 159,
      "outputs": []
    },
    {
      "cell_type": "markdown",
      "source": [
        "Currículum de **Arquitecto de Soluciones**"
      ],
      "metadata": {
        "id": "TVh4VfWqfSrr"
      }
    },
    {
      "cell_type": "code",
      "source": [
        "test_cv = {\n",
        "    \"summary\": \"José Alberto Ruiz Casarrubios is a passionate technology expert with over 20 years of experience in strategic and technical roles across various sectors. He possesses extensive knowledge in Frontend, Backend, Cloud, APIs, and Databases, enabling him to manage complex architectures in high-performance enterprise environments. He emphasizes an end-to-end vision in solution delivery, ensuring that solutions are not only current but also scalable and adaptable for future needs. With experience in mentoring less experienced professionals, he actively contributes to the tech community through articles and presentations at events like Commit Conf and OpenExpo. His role as a Principal Solutions Architect at Paradigma Digital involves participation in pre-sales, designing end-to-end architectures, developing PoCs for new technologies, and standardizing best practices across the organization. He has led significant projects such as the digital transformation of document management for Mercadona and the regulatory adaptation for BME. His technical expertise spans a wide array of technologies, including Angular, Spring, Kubernetes, AWS, and GCP, and he holds multiple relevant certifications. José is committed to continuous learning and sharing knowledge, reflected in his publications and talks on modern architecture.\",\n",
        "    \"keyPoints\": [\n",
        "        \"Over 20 years of experience in technology roles.\",\n",
        "        \"Expertise in end-to-end solution architecture.\",\n",
        "        \"Strong mentoring and leadership skills.\",\n",
        "        \"Active contributor to the tech community through articles and presentations.\",\n",
        "        \"Proficient in a wide range of modern technologies and methodologies.\"\n",
        "    ],\n",
        "    \"weakPoints\": [\n",
        "        \"Limited recent experience in purely software development roles.\",\n",
        "        \"Heavy focus on architecture may reduce hands-on coding experience.\",\n",
        "        \"May require adaptation to rapidly changing technology trends.\",\n",
        "        \"Potential gaps in experience with very niche technologies.\",\n",
        "        \"Less emphasis on purely business-oriented roles.\"\n",
        "    ],\n",
        "    \"hardSkills\": [\n",
        "        \"Angular\",\n",
        "        \"Spring\",\n",
        "        \"Kubernetes\",\n",
        "        \"Cloud\",\n",
        "        \"API\",\n",
        "        \"AWS\",\n",
        "        \"Software Architecture\",\n",
        "        \"Kubernetes\",\n",
        "        \"Terraform\",\n",
        "        \"Kafka\",\n",
        "        \"Java\",\n",
        "        \"Microservices\",\n",
        "        \"CI/CD\"\n",
        "    ],\n",
        "    \"softSkills\": [\n",
        "        \"Communication\",\n",
        "        \"Leadership\",\n",
        "        \"Mentoring\",\n",
        "        \"Problem-solving\",\n",
        "        \"Team collaboration\"\n",
        "    ],\n",
        "    \"tasksAndResponsabilities\": [\n",
        "        \"Lead architectural design and development of end-to-end solutions.\",\n",
        "        \"Conduct pre-sales assessments and client engagements.\",\n",
        "        \"Develop and standardize best practices for development across the organization.\",\n",
        "        \"Mentor junior staff and support their professional growth.\",\n",
        "        \"Participate in technical events and publish related articles.\",\n",
        "        \"Manage technical aspects of significant projects from inception to execution.\",\n",
        "        \"Design and develop Proofs of Concept (PoCs) for new technologies.\",\n",
        "        \"Oversee the technical implementation and provide functional support.\"\n",
        "    ],\n",
        "    \"interviewQuestions\": [\n",
        "        \"Can you describe your approach to developing end-to-end architectures?\",\n",
        "        \"What strategies do you use for mentoring junior team members?\",\n",
        "        \"How do you keep up with new technologies and trends in the industry?\",\n",
        "        \"Can you discuss a challenging project you managed and how you overcame obstacles?\",\n",
        "        \"What role do you believe documentation and standardization play in your projects?\"\n",
        "    ],\n",
        "    \"totalYearsExperience\": 20,\n",
        "    \"averagePermanency\": 2.5,\n",
        "    \"tags\": [\n",
        "        \"Microservices\",\n",
        "        \"Architecture\",\n",
        "        \"Leadership\",\n",
        "        \"Java Expert\",\n",
        "        \"Cloud Solutions\"\n",
        "    ]\n",
        "}"
      ],
      "metadata": {
        "id": "sDf89d5YfWyI"
      },
      "execution_count": 145,
      "outputs": []
    },
    {
      "cell_type": "markdown",
      "source": [
        "Definimos las funciones de cálculo \"TF-IDF cosine similarity\" y de \"similaridad semántica\""
      ],
      "metadata": {
        "id": "qOcP7wmWYd7O"
      }
    },
    {
      "cell_type": "code",
      "source": [
        "model = SentenceTransformer('all-MiniLM-L6-v2')\n",
        "model_for_tasks = SentenceTransformer(\"sentence-transformers/LaBSE\")\n",
        "\n",
        "def compute_tfidf_similarity(job_desc, cv_desc):\n",
        "    vectorizer = TfidfVectorizer()\n",
        "    vectors = vectorizer.fit_transform([job_desc, cv_desc])\n",
        "    return cosine_similarity(vectors[0], vectors[1])[0][0]\n",
        "\n",
        "def compute_semantic_similarity(text1, text2):\n",
        "    embedding1 = model.encode(text1, convert_to_tensor=True)\n",
        "    embedding2 = model.encode(text2, convert_to_tensor=True)\n",
        "    return np.dot(embedding1, embedding2) / (np.linalg.norm(embedding1) * np.linalg.norm(embedding2))\n",
        "\n",
        "def compute_semantic_similarity_task(text1, text2):\n",
        "    embedding1 = model_for_tasks.encode([text1])\n",
        "    embedding2 = model_for_tasks.encode([text2])\n",
        "    score = cosine_similarity(embedding1, embedding2)[0][0]\n",
        "    return score\n",
        "\n"
      ],
      "metadata": {
        "id": "lFRtnKlNY2Mn"
      },
      "execution_count": 137,
      "outputs": []
    },
    {
      "cell_type": "markdown",
      "source": [
        "Definimos la función para realizar el score de los requisitos\n"
      ],
      "metadata": {
        "id": "m4WrxnMIZCcv"
      }
    },
    {
      "cell_type": "code",
      "source": [
        "def score_requirements(requirements, cv_skills):\n",
        "    total_score = 0\n",
        "    max_score = 0\n",
        "\n",
        "    for req in requirements:\n",
        "        skill = req[\"skill\"]\n",
        "        level = req[\"level\"]\n",
        "        desc = req[\"desc\"]\n",
        "        mandatory = req[\"mandatory\"]\n",
        "\n",
        "        best_match = max((compute_semantic_similarity_task(skill, cv_skill) for cv_skill in cv_skills), default=0)\n",
        "        weight = 2 if mandatory.lower() == 'true' else 1\n",
        "        total_score += best_match * weight\n",
        "        max_score += weight\n",
        "\n",
        "    return total_score / max_score if max_score > 0 else 0"
      ],
      "metadata": {
        "id": "rZxEVzpZZOrm"
      },
      "execution_count": 132,
      "outputs": []
    },
    {
      "cell_type": "markdown",
      "source": [
        "Definimos la función para calcular la similaridad en el apartado de tareas"
      ],
      "metadata": {
        "id": "--9jntkhaZOU"
      }
    },
    {
      "cell_type": "code",
      "source": [
        "def score_tasks(tasks, cv_tasks):\n",
        "    cv_tasks = [task.lower() for task in cv_tasks]\n",
        "    tasks = [task.lower() for task in tasks]\n",
        "    if not tasks:\n",
        "        return 0\n",
        "    total_score = 0\n",
        "    for task in tasks:\n",
        "        best_match = max((compute_semantic_similarity_task(task, cv_task) for cv_task in cv_tasks), default=0)\n",
        "        #print(\"Task: \" + task + \" // Best match: \" + str(best_match))\n",
        "\n",
        "        total_score += best_match\n",
        "\n",
        "    return total_score / len(tasks)\n",
        "\n",
        "\n",
        "    #task_similarities = [max((compute_semantic_similarity(task, exp) for exp in cv_tasks), default=0) for task in tasks]\n",
        "    #return np.mean(task_similarities) if task_similarities else 0\n",
        "    #return compute_semantic_similarity(str(tasks), str(cv_tasks))\n"
      ],
      "metadata": {
        "id": "1-tEx1xlZdgw"
      },
      "execution_count": 133,
      "outputs": []
    },
    {
      "cell_type": "markdown",
      "source": [
        "Definimos la función para el cálculo de similaridad de tags"
      ],
      "metadata": {
        "id": "v_Yz3cQpaqEy"
      }
    },
    {
      "cell_type": "code",
      "source": [
        "def score_tags(job_tags, cv_skills):\n",
        "    ##matching_tags = len(set(job_tags) & set(cv_tags))\n",
        "    ##return matching_tags / len(job_tags) if job_tags else 0\n",
        "    return compute_semantic_similarity_task(str(job_tags), str(cv_skills))\n"
      ],
      "metadata": {
        "id": "WVlP-8y0atZu"
      },
      "execution_count": 134,
      "outputs": []
    },
    {
      "cell_type": "markdown",
      "source": [
        "Definimos la función de **cálculo de scoring**"
      ],
      "metadata": {
        "id": "-snaaDFKj5l9"
      }
    },
    {
      "cell_type": "code",
      "source": [
        "def compute_cv_score(job_desc, requirements, tasks, tags, cv_desc, cv_keypoints, cv_skills, cv_tasks, cv_tags):\n",
        "    desc_score = compute_semantic_similarity_task(job_desc, str(cv_keypoints) + cv_desc)\n",
        "    requirement_score = score_requirements(requirements, cv_skills)\n",
        "    task_score = score_tasks(tasks, cv_tasks)\n",
        "    #tag_score = score_tags(tags, cv_skills)\n",
        "\n",
        "    final_score = (0.2 * desc_score) + (0.6 * requirement_score) + (0.2 * task_score)\n",
        "    return {\n",
        "        'desc_score': desc_score,\n",
        "        'requirement_match': requirement_score,\n",
        "        'task_match': task_score,\n",
        "        #'tag_match': tag_score,\n",
        "        'final_score': final_score\n",
        "    }"
      ],
      "metadata": {
        "id": "rJqYENrPj-bV"
      },
      "execution_count": 157,
      "outputs": []
    },
    {
      "cell_type": "markdown",
      "source": [
        "Por último, calculamos el scoring total"
      ],
      "metadata": {
        "id": "A0le-SYAaxC0"
      }
    },
    {
      "cell_type": "code",
      "source": [
        "cv_skills = test_cv['hardSkills'] + test_cv['softSkills']\n",
        "score = compute_cv_score(offer_description, offer_requirements, offer_tasks, offer_tags, test_cv['summary'], test_cv['keyPoints'], cv_skills, test_cv['tasksAndResponsabilities'], test_cv['tags'])\n",
        "\n",
        "print('desc_score: ', score['desc_score'])\n",
        "print('requirement_match: ', score['requirement_match'])\n",
        "print('task_match: ', score['task_match'])\n",
        "#print('tag_match: ', score['tag_match'])\n",
        "print('final_score: ', score['final_score'])"
      ],
      "metadata": {
        "colab": {
          "base_uri": "https://localhost:8080/"
        },
        "id": "FeAmjh0La3fT",
        "outputId": "9b3d70b5-3dab-43fb-da17-9d140e3e1a2d"
      },
      "execution_count": 161,
      "outputs": [
        {
          "output_type": "stream",
          "name": "stdout",
          "text": [
            "desc_score:  0.42311776\n",
            "requirement_match:  0.37393903070025974\n",
            "task_match:  0.49143779277801514\n",
            "final_score:  0.4072745283444722\n"
          ]
        }
      ]
    }
  ]
}