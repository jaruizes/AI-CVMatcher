{
  "nbformat": 4,
  "nbformat_minor": 0,
  "metadata": {
    "colab": {
      "provenance": [],
      "mount_file_id": "1pevtq74jQULXG4yp3QxK9Rb8ZK4iTdSl",
      "authorship_tag": "ABX9TyO1zBVib/OHURtkKU1dSE6F",
      "include_colab_link": true
    },
    "kernelspec": {
      "name": "python3",
      "display_name": "Python 3"
    },
    "language_info": {
      "name": "python"
    }
  },
  "cells": [
    {
      "cell_type": "markdown",
      "metadata": {
        "id": "view-in-github",
        "colab_type": "text"
      },
      "source": [
        "<a href=\"https://colab.research.google.com/github/jaruizes/AI-CVMatcher/blob/main/ApplicationsScoring.ipynb\" target=\"_parent\"><img src=\"https://colab.research.google.com/assets/colab-badge.svg\" alt=\"Open In Colab\"/></a>"
      ]
    },
    {
      "cell_type": "markdown",
      "source": [
        "# Scoring de aplicaciones a posiciones\n",
        "\n",
        "Este notebook muestra como aplicar un scoring de un currículum aplicado a una posición\n",
        "\n",
        "Se parte de datos no estructurados, como el currículúm vitae de una persona y se compara con los datos estructurados de una posición. La posición tiene el siguiente formato:\n",
        "\n",
        "- descripción\n",
        "- lista de requisitos: cada requisito tiene el formato <skill, nivel, descripción, obligatorio (sí/no)>\n",
        "- lista de tareas a realizar\n",
        "- tags de la oferta\n",
        "\n",
        "Para transformar un CV a datos estructurados se utiliza un prompt, de modo que un LLM procese el CV y genere la siguiente estructura:\n",
        "\n",
        "- resumen\n",
        "- puntos clave del candidato\n",
        "- puntos débiles del candidato\n",
        "- hard skills\n",
        "- soft skills\n",
        "- tareas y responsabilidades que ha realizado en sus últimos 5 años\n",
        "- posibles preguntas de la entrevista\n",
        "- años totales de experiencia\n",
        "- permanencia media en las empresas\n",
        "- tags\n",
        "\n",
        "El prompt para obtener esta estructura es el siguiente:\n",
        "\n",
        "\n",
        "\n",
        ">\n",
        "            You are an expert recruiter in technology profiles. You have to analyse and evaluate the resume text and to extract the following structured information:\n",
        "            \n",
        "             - **Summary** (max 400 words).\n",
        "             - **Key Points** relevant about the candidate (education, career, skills, capabillites, interest, etc..).\n",
        "             - **Weak Points** related to the whole document (education, career, skills, etc..)..\n",
        "             - **Hard Skills** (For instance: Java, Python, AWS, GCP, Networks,....etc).\n",
        "             - **Soft Skills** (For instance: Communication, Teamwork, Leadership, Problem-solving, etc...).\n",
        "             - **Tasks and responsibilities during the last five years** (list of max 8 items evaluating the last five years worked).\n",
        "             - **Potential Interview Questions about CV, skills, companies, permanency, roles and tasks, etc...**.\n",
        "             - **Total Years of Experience**.\n",
        "             - **Average permanence in years within the whole professional experiences**,\n",
        "             - **Tags** (relevant tags about the candidate. For instance: Microservices, Architecture, Leadership, Java Expert, Good communicator,....)\n",
        "\n",
        "            Format the output as a JSON object with the following structure:\n",
        "            {\n",
        "                \"summary\": \"A summary of the resume\",\n",
        "                \"keyPoints\": [\"key point 1\", \"key point 2\", \"key point 3\"],\n",
        "                \"weakPoints\": [\"weak point 1\", \"weak point 2\", \"weak point 3\"],\n",
        "                \"hardSkills\": [\"hard skill 1\", \"hardskill 2\", \"hardskill 3\"],\n",
        "                \"softSkills\": [\"soft skill 1\", \"soft skill 2\", \"soft skill 3\"],\n",
        "                \"tasksAndResponsabilities\": [\"Task and Responsibility 1\", \"Task and Responsibility 2\", \"Task and Responsibility 3\"],\n",
        "                \"interviewQuestions\": [\"question 1\", \"question 2\", \"question 3\"],\n",
        "                \"totalYearsExperience\": 5,\n",
        "                \"averagePermanency\": 2.5,\n",
        "                \"tags\": [\"tag 1\", \"tag 2\", \"tag 3\"]\n",
        "            }\n",
        "\n",
        "            Resume Text:\n",
        "            %s\n",
        "\n"
      ],
      "metadata": {
        "id": "Ckbbzdy2YHlm"
      }
    },
    {
      "cell_type": "markdown",
      "source": [
        "## Librerías/Módulos necesarios\n",
        "\n",
        "Importamos las librerías necesarias"
      ],
      "metadata": {
        "id": "xeTDbR074jCG"
      }
    },
    {
      "cell_type": "code",
      "source": [
        "import pandas as pd\n",
        "import numpy as np\n",
        "from sklearn.metrics.pairwise import cosine_similarity\n",
        "from sentence_transformers import SentenceTransformer\n",
        "from google.colab import userdata\n",
        "import openai"
      ],
      "metadata": {
        "id": "HHJXBC4ZYME0"
      },
      "execution_count": 1,
      "outputs": []
    },
    {
      "cell_type": "markdown",
      "source": [
        "## Datos de prueba\n",
        "Para probar el scoring definimos dos posiciones y dos currículums:\n",
        "\n",
        "* Posiciones:\n"
      ],
      "metadata": {
        "id": "_p-QOCBKYUz6"
      }
    },
    {
      "cell_type": "code",
      "source": [
        "offer_solutions_arq = {\n",
        "  \"description\" : \"Buscamos un arquitecto de soluciones con experiencia en diseño de arquitecturas escalables en la nube y microservicios.\",\n",
        "  \"requirements\" : [\n",
        "    {\"skill\": \"Software Architecture\", \"level\": \"experto\", \"desc\": \"Experiencia en diseño de arquitecturas escalables y resilientes.\", \"mandatory\": \"true\"},\n",
        "    {\"skill\": \"Microservices\", \"level\": \"experto\", \"desc\": \"Implementación de arquitecturas basadas en microservicios.\", \"mandatory\": \"true\"},\n",
        "    {\"skill\": \"Cloud\", \"level\": \"experto\", \"desc\": \"Experiencia con AWS, Azure o GCP\", \"mandatory\": \"true\"},\n",
        "    {\"skill\": \"Kubernetes\", \"level\": \"medio\", \"desc\": \"Despliegue y gestión de aplicaciones en contenedores.\", \"mandatory\": \"true\"},\n",
        "    {\"skill\": \"API\", \"level\": \"inicial\", \"desc\": \"Diseño de APIs REST y GraphQL.\", \"mandatory\": \"false\"}\n",
        "  ],\n",
        "  \"tasksAndResponsabilities\": [\"design scalable and high-performance architectures in the cloud\",\n",
        "                               \"Asesorar a equipos de desarrollo en mejores prácticas de software\",\n",
        "                               \"Diseñar e implementar estrategias de integración entre servicios\",\n",
        "                               \"Garantizar la seguridad y gobernanza de las aplicaciones empresariales\"],\n",
        "  \"tags\": [\"Architecture\", \"Cloud\", \"Microservices\", \"AWS\", \"Kubernetes\", \"Software Design\"]\n",
        "}\n",
        "\n",
        "offer_front_dev = {\n",
        "  \"description\" : \"Buscamos un desarrollador frontend con experiencia en React y TypeScript para construir interfaces modernas y escalables.\",\n",
        "  \"requirements\" : [\n",
        "    {\"skill\": \"React\", \"level\": \"experto\", \"desc\": \"Experiencia en desarrollo con React y gestión de estado (Redux, Context API).\", \"mandatory\": \"true\"},\n",
        "    {\"skill\": \"Typescript\", \"level\": \"experto\", \"desc\": \"Uso de TypeScript para mejorar la robustez del código.\", \"mandatory\": \"true\"},\n",
        "    {\"skill\": \"CSS/SASS\", \"level\": \"experto\", \"desc\": \"Manejo de estilos avanzados y diseño responsivo.\", \"mandatory\": \"true\"},\n",
        "    {\"skill\": \"UI/UX\", \"level\": \"inicial\", \"desc\": \"Conocimiento en diseño centrado en el usuario.\", \"mandatory\": \"false\"},\n",
        "    {\"skill\": \"Testing\", \"level\": \"inicial\", \"desc\": \"Familiaridad con pruebas unitarias (Jest, React Testing Library).\", \"mandatory\": \"false\"}\n",
        "  ],\n",
        "  \"tasksAndResponsabilities\": [\"Desarrollar interfaces modernas y escalables con React y TypeScript.\",\n",
        "               \"Colaborar con diseñadores para mejorar la experiencia de usuario.\",\n",
        "               \"Optimizar el rendimiento y accesibilidad de la aplicación.\",\n",
        "               \"Implementar pruebas unitarias para asegurar la calidad del código.\"],\n",
        "  \"tags\": [\"Frontend\", \"React\", \"TypeScript\", \"UI/UX\", \"JavaScript\", \"Web Development\"]\n",
        "}\n",
        "\n"
      ],
      "metadata": {
        "id": "i4tuBL_VYWl-"
      },
      "execution_count": 2,
      "outputs": []
    },
    {
      "cell_type": "markdown",
      "source": [
        "* Currículums"
      ],
      "metadata": {
        "id": "3BFuPEgAfotz"
      }
    },
    {
      "cell_type": "code",
      "source": [
        "cv_ai_expert = {\n",
        "    \"summary\": \"Luis Martínez García is a seasoned professional with over 12 years of experience in developing and implementing artificial intelligence solutions, with a recent focus on Generative AI. He is a recognized speaker at international events on AI, emphasizing how these technologies are transforming industries. Passionate about research and practical applications of advanced AI models, his goal is to lead innovative projects that promote the responsible adoption of artificial intelligence in businesses and organizations. His expertise includes machine learning and deep learning model design, along with proficiency in frameworks such as TensorFlow, PyTorch, and Hugging Face. Additionally, he has experience in cloud data management and MLOps, and is knowledgeable about AI ethics and regulation.\",\n",
        "    \"keyPoints\": [\n",
        "        \"Over 12 years of experience in AI solutions development.\",\n",
        "        \"Expertise in Generative AI and NLP.\",\n",
        "        \"Recognized speaker at international AI conferences.\",\n",
        "        \"Strong background in machine learning and deep learning.\",\n",
        "        \"Experience in MLOps and cloud environments.\"\n",
        "    ],\n",
        "    \"weakPoints\": [\n",
        "        \"Limited experience outside AI and machine learning.\",\n",
        "        \"No formal management experience mentioned.\",\n",
        "        \"Potential overemphasis on Generative AI despite broad AI experience.\",\n",
        "        \"Focus primarily on technical skills with less emphasis on soft skills.\",\n",
        "        \"May require upskilling in emerging AI regulations.\"\n",
        "    ],\n",
        "    \"hardSkills\": [\n",
        "        \"Machine Learning\",\n",
        "        \"Deep Learning\",\n",
        "        \"Generative AI\",\n",
        "        \"Natural Language Processing (NLP)\",\n",
        "        \"MLOps\"\n",
        "    ],\n",
        "    \"softSkills\": [\n",
        "        \"Communication\",\n",
        "        \"Leadership\",\n",
        "        \"Teamwork\",\n",
        "        \"Problem-solving\",\n",
        "        \"Research\"\n",
        "    ],\n",
        "    \"tasksAndResponsabilities\": [\n",
        "        \"Lead development projects based on Generative AI for various sectors.\",\n",
        "        \"Create custom models for text and image generation.\",\n",
        "        \"Implement AI systems in production platforms using Kubernetes and Docker.\",\n",
        "        \"Develop advanced machine learning algorithms for predictive analysis.\",\n",
        "        \"Research NLP models and contribute to scientific publications.\",\n",
        "        \"Supervise research projects in collaboration with universities.\",\n",
        "        \"Design and maintain data pipelines for machine learning projects.\",\n",
        "        \"Train models for classification and data analysis.\"\n",
        "    ],\n",
        "    \"interviewQuestions\": [\n",
        "        \"Can you describe a successful project you led in Generative AI?\",\n",
        "        \"How do you approach the ethical considerations in AI?\",\n",
        "        \"What challenges have you faced when deploying AI solutions in production?\",\n",
        "        \"How do you keep your skills updated in the rapidly evolving AI landscape?\",\n",
        "        \"Can you provide an example of how you've collaborated with cross-functional teams?\"\n",
        "    ],\n",
        "    \"totalYearsExperience\": 12,\n",
        "    \"tags\": [\n",
        "        \"Artificial Intelligence\",\n",
        "        \"Generative AI\",\n",
        "        \"Machine Learning\",\n",
        "        \"Deep Learning\",\n",
        "        \"NLP\",\n",
        "        \"MLOps\"\n",
        "    ]\n",
        "}\n",
        "\n",
        "cv_solutions_arq = {\n",
        "    \"summary\": \"Jose A. is a passionate technology expert with over 20 years of experience in strategic and technical roles across various sectors. He possesses extensive knowledge in Frontend, Backend, Cloud, APIs, and Databases, enabling him to manage complex architectures in high-performance enterprise environments. He emphasizes an end-to-end vision in solution delivery, ensuring that solutions are not only current but also scalable and adaptable for future needs. With experience in mentoring less experienced professionals, he actively contributes to the tech community through articles and presentations at events like Commit Conf and OpenExpo. His role as a Principal Solutions Architect at Paradigma Digital involves participation in pre-sales, designing end-to-end architectures, developing PoCs for new technologies, and standardizing best practices across the organization. He has led significant projects such as the digital transformation of document management for Mercadona and the regulatory adaptation for BME. His technical expertise spans a wide array of technologies, including Angular, Spring, Kubernetes, AWS, and GCP, and he holds multiple relevant certifications. José is committed to continuous learning and sharing knowledge, reflected in his publications and talks on modern architecture.\",\n",
        "    \"keyPoints\": [\n",
        "        \"Over 20 years of experience in technology roles.\",\n",
        "        \"Expertise in end-to-end solution architecture.\",\n",
        "        \"Strong mentoring and leadership skills.\",\n",
        "        \"Active contributor to the tech community through articles and presentations.\",\n",
        "        \"Proficient in a wide range of modern technologies and methodologies.\"\n",
        "    ],\n",
        "    \"weakPoints\": [\n",
        "        \"Limited recent experience in purely software development roles.\",\n",
        "        \"Heavy focus on architecture may reduce hands-on coding experience.\",\n",
        "        \"May require adaptation to rapidly changing technology trends.\",\n",
        "        \"Potential gaps in experience with very niche technologies.\",\n",
        "        \"Less emphasis on purely business-oriented roles.\"\n",
        "    ],\n",
        "    \"hardSkills\": [\n",
        "        \"Angular\",\n",
        "        \"Spring\",\n",
        "        \"Kubernetes\",\n",
        "        \"Cloud\",\n",
        "        \"API\",\n",
        "        \"AWS\",\n",
        "        \"Software Architecture\",\n",
        "        \"Kubernetes\",\n",
        "        \"Terraform\",\n",
        "        \"Kafka\",\n",
        "        \"Java\",\n",
        "        \"Microservices\",\n",
        "        \"CI/CD\"\n",
        "    ],\n",
        "    \"softSkills\": [\n",
        "        \"Communication\",\n",
        "        \"Leadership\",\n",
        "        \"Mentoring\",\n",
        "        \"Problem-solving\",\n",
        "        \"Team collaboration\"\n",
        "    ],\n",
        "    \"tasksAndResponsabilities\": [\n",
        "        \"Lead architectural design and development of end-to-end solutions.\",\n",
        "        \"Conduct pre-sales assessments and client engagements.\",\n",
        "        \"Develop and standardize best practices for development across the organization.\",\n",
        "        \"Mentor junior staff and support their professional growth.\",\n",
        "        \"Participate in technical events and publish related articles.\",\n",
        "        \"Manage technical aspects of significant projects from inception to execution.\",\n",
        "        \"Design and develop Proofs of Concept (PoCs) for new technologies.\",\n",
        "        \"Oversee the technical implementation and provide functional support.\"\n",
        "    ],\n",
        "    \"interviewQuestions\": [\n",
        "        \"Can you describe your approach to developing end-to-end architectures?\",\n",
        "        \"What strategies do you use for mentoring junior team members?\",\n",
        "        \"How do you keep up with new technologies and trends in the industry?\",\n",
        "        \"Can you discuss a challenging project you managed and how you overcame obstacles?\",\n",
        "        \"What role do you believe documentation and standardization play in your projects?\"\n",
        "    ],\n",
        "    \"totalYearsExperience\": 20,\n",
        "    \"averagePermanency\": 2.5,\n",
        "    \"tags\": [\n",
        "        \"Microservices\",\n",
        "        \"Architecture\",\n",
        "        \"Leadership\",\n",
        "        \"Java Expert\",\n",
        "        \"Cloud Solutions\"\n",
        "    ]\n",
        "}"
      ],
      "metadata": {
        "id": "idk-pqg2fs1G"
      },
      "execution_count": 3,
      "outputs": []
    },
    {
      "cell_type": "markdown",
      "source": [
        "## Modelo de OpenAI\n",
        "\n",
        "Debemos configurar un **secreto OPENAI_KEY** que contenga la key que nos permite acceder al API de OpenAI. Para ello, simplemente pulsamos en el icono de la llave y creamos un nuevo secreto."
      ],
      "metadata": {
        "id": "QGv_02cZC18G"
      }
    },
    {
      "cell_type": "code",
      "source": [
        "openai.api_key = userdata.get('OPENAI_KEY')\n",
        "\n",
        "def get_embedding_openai(text):\n",
        "    response = openai.embeddings.create(input=text, model=\"text-embedding-3-small\")\n",
        "    return np.array(response.data[0].embedding).reshape(1, -1)\n"
      ],
      "metadata": {
        "id": "W3mwyT1xC4Ar"
      },
      "execution_count": 4,
      "outputs": []
    },
    {
      "cell_type": "markdown",
      "source": [
        "## Mdelo LaBSE\n",
        "\n",
        "Configuramos el modelo LaBSE (Language-Agnostic BERT Sentence Embeddings), Google Research que permite representar frases en un espacio vectorial, manteniendo su significado independientemente del idioma."
      ],
      "metadata": {
        "id": "bA9Vi1Egmg63"
      }
    },
    {
      "cell_type": "code",
      "source": [
        "model_labse = SentenceTransformer(\"sentence-transformers/LaBSE\")\n",
        "\n",
        "def get_embedding_labse(text):\n",
        "    return model_labse.encode([text])"
      ],
      "metadata": {
        "colab": {
          "base_uri": "https://localhost:8080/"
        },
        "id": "lFRtnKlNY2Mn",
        "outputId": "b1158133-9620-450b-869e-5e5d1a61f00c"
      },
      "execution_count": 5,
      "outputs": [
        {
          "output_type": "stream",
          "name": "stderr",
          "text": [
            "/usr/local/lib/python3.11/dist-packages/huggingface_hub/utils/_auth.py:94: UserWarning: \n",
            "The secret `HF_TOKEN` does not exist in your Colab secrets.\n",
            "To authenticate with the Hugging Face Hub, create a token in your settings tab (https://huggingface.co/settings/tokens), set it as secret in your Google Colab and restart your session.\n",
            "You will be able to reuse this secret in all of your notebooks.\n",
            "Please note that authentication is recommended but still optional to access public models or datasets.\n",
            "  warnings.warn(\n"
          ]
        }
      ]
    },
    {
      "cell_type": "markdown",
      "source": [
        "## Similitud semántica\n",
        "A la hora de comparar los datos entre el currículum y la posición no queremos hacer una simple comparación de igualdad de términos o palabras sino que nos interesa una comparación semántica ya que cada persona puede exponer sus habilidades y experiencia de una forma diferente y no estructurada.\n",
        "\n",
        "Definimos una función, que mediante la similitud del coseno, determina cómo de \"parecidos\" son los terminos (los embeddings que hemos generado) que se comparan"
      ],
      "metadata": {
        "id": "oEFiRsIMn13n"
      }
    },
    {
      "cell_type": "code",
      "source": [
        "def compute_semantic_similarity(text1, text2, embedding_func):\n",
        "    embedding1 = embedding_func(text1)\n",
        "    embedding2 = embedding_func(text2)\n",
        "    score = cosine_similarity(embedding1, embedding2)[0][0]\n",
        "    return score"
      ],
      "metadata": {
        "id": "3Sevpz1iouPI"
      },
      "execution_count": 6,
      "outputs": []
    },
    {
      "cell_type": "markdown",
      "source": [
        "## Comparando requisitos\n",
        "\n",
        "Definimos la función para realizar el score de los requisitos. Buscamos cada requisito de la posición en los skills del candidato, de forma semántica, y nos quedamos con el \"best match\".\n",
        "\n",
        "Además, si el requisito es obligatorio tiene un peso mayor que si no lo es\n"
      ],
      "metadata": {
        "id": "m4WrxnMIZCcv"
      }
    },
    {
      "cell_type": "code",
      "source": [
        "def score_requirements(requirements, cv_skills, embedding_func):\n",
        "    total_score = 0\n",
        "    max_score = 0\n",
        "\n",
        "    for req in requirements:\n",
        "        skill = req[\"skill\"]\n",
        "        level = req[\"level\"]\n",
        "        desc = req[\"desc\"]\n",
        "        mandatory = req[\"mandatory\"]\n",
        "\n",
        "        best_match = max((compute_semantic_similarity(skill, cv_skill, embedding_func) for cv_skill in cv_skills), default=0)\n",
        "        weight = 2 if mandatory.lower() == 'true' else 1\n",
        "        total_score += best_match * weight\n",
        "        max_score += weight\n",
        "\n",
        "    return total_score / max_score if max_score > 0 else 0"
      ],
      "metadata": {
        "id": "rZxEVzpZZOrm"
      },
      "execution_count": 7,
      "outputs": []
    },
    {
      "cell_type": "markdown",
      "source": [
        "## Comparando tareas a realizar\n",
        "\n",
        "Definimos la función para calcular el score en el apartado de tareas. Como hemos indicado al inicio, con la llamada al LLM hemos obtenido las principales funciones que el candidato ha realizado en los últimos 5 años.\n",
        "\n",
        "Realizamos una comparación similar a la de los requisitos. De forma semántica, obtenemos la distancia entre las tareas de la oferta y las tareas del candidato"
      ],
      "metadata": {
        "id": "--9jntkhaZOU"
      }
    },
    {
      "cell_type": "code",
      "source": [
        "def score_tasks(tasks, cv_tasks, embedding_func):\n",
        "    cv_tasks = [task.lower() for task in cv_tasks]\n",
        "    tasks = [task.lower() for task in tasks]\n",
        "    if not tasks:\n",
        "        return 0\n",
        "    total_score = 0\n",
        "    for task in tasks:\n",
        "        best_match = max((compute_semantic_similarity(task, cv_task, embedding_func) for cv_task in cv_tasks), default=0)\n",
        "\n",
        "        total_score += best_match\n",
        "\n",
        "    return total_score / len(tasks)\n"
      ],
      "metadata": {
        "id": "1-tEx1xlZdgw"
      },
      "execution_count": 8,
      "outputs": []
    },
    {
      "cell_type": "markdown",
      "source": [
        "## Comparando tags\n",
        "\n",
        "Esta comparación es opcional ya que los tags dependen mucho de cómo se introduzcan en la oferta y pueden ser muy vagos o buscando el hype para atraer candidatos.\n",
        "\n",
        "Para evitar que la métrica sea simplemente ruido, lo que hacemos es comparar los tags del candidato, que los ha generado el LLM, con los tags de la posición con los requisitos obligatorios de la posición, de modo que sea más profunda y haya más datos a comparar."
      ],
      "metadata": {
        "id": "v_Yz3cQpaqEy"
      }
    },
    {
      "cell_type": "code",
      "source": [
        "def score_tags(requirements, cv_tags, embedding_func):\n",
        "    total_score = 0\n",
        "    max_score = 0\n",
        "\n",
        "    mandatory_reqs = [req for req in requirements if req[\"mandatory\"].lower() == 'true']\n",
        "\n",
        "    for req in mandatory_reqs:\n",
        "        skill = req[\"skill\"]\n",
        "        best_match = max((compute_semantic_similarity(skill, tag, embedding_func) for tag in cv_tags), default=0)\n",
        "        total_score += best_match\n",
        "\n",
        "    return total_score / len(mandatory_reqs)\n"
      ],
      "metadata": {
        "id": "WVlP-8y0atZu"
      },
      "execution_count": 9,
      "outputs": []
    },
    {
      "cell_type": "markdown",
      "source": [
        "## Cálculo del scoring\n",
        "\n",
        "Por último, definimos la función de cálculo del scoring. El algoritmo que hemos elegido para este cálculo es el siguiente:\n",
        "\n",
        "- calculamos la similitud entre los puntos fuertes del candidato y la descripción de la oferta. A este cálculo le asignaremos un valor de 0.2\n",
        "- calculamos la similitud entre los requisitos y los skills del candidato(agrupando tanto los hard como lo soft). Esta métrica va a ser la principal del scoring, con un valor de 0.4\n",
        "- calculamos la similitud entre las tareas de la oferta y las que ha realizado el candidato en los últimos 5 años. Esta métrica tendrá un peso de 0.3\n",
        "- calculamos la similitud entre los tags y los requisitos obligatorios. Esta métrica tendrá un valor de 0."
      ],
      "metadata": {
        "id": "-snaaDFKj5l9"
      }
    },
    {
      "cell_type": "code",
      "source": [
        "def compute_cv_score(id, offer, cv, embedding_func):\n",
        "    cv_skills = cv['hardSkills'] + cv['softSkills'] + cv['tags']\n",
        "\n",
        "    desc_score = compute_semantic_similarity(offer['description'], str(cv['keyPoints']), embedding_func)\n",
        "    requirement_score = score_requirements(offer['requirements'], cv_skills, embedding_func)\n",
        "    task_score = score_tasks(offer['tasksAndResponsabilities'], cv['tasksAndResponsabilities'], embedding_func)\n",
        "\n",
        "    final_score = (0.1 * desc_score) + (0.6 * requirement_score) + (0.3 * task_score)\n",
        "    print(f'({id}) Scoring calculated: {final_score} [desc_score: {desc_score}), requirement_score: {requirement_score}, task_score: {task_score}')\n",
        "\n",
        "    return {\n",
        "        'desc_score': desc_score,\n",
        "        'requirement_match': requirement_score,\n",
        "        'task_match': task_score,\n",
        "        'final_score': final_score\n",
        "    }"
      ],
      "metadata": {
        "id": "rJqYENrPj-bV"
      },
      "execution_count": 10,
      "outputs": []
    },
    {
      "cell_type": "markdown",
      "source": [
        "## Probando el algoritmo de scoring\n",
        "\n",
        "Para probar el algoritmo vamos a realizar esta serie de pruebas usando el modelo de embeddings de OpenAI y LaBSE:\n",
        "\n",
        "- scoring de la posición de arquitecto de soluciones con el cv del arquitecto de soluciones --> debe dar un scoring alto, por encima del 65%\n",
        "- scoring de la posición de desarrollador front con el cv de experto en IA --> debe dar un scoring bajo, por debajo del 40%\n",
        "- scoring de la posición de desarrollador front con el cv de arquitecto"
      ],
      "metadata": {
        "id": "A0le-SYAaxC0"
      }
    },
    {
      "cell_type": "code",
      "source": [
        "score_pos_sol_arq_and_cv_sol_arq_openai = compute_cv_score(1, offer_solutions_arq, cv_solutions_arq, get_embedding_openai)\n",
        "score_pos_sol_arq_and_cv_sol_arq_labse = compute_cv_score(2, offer_solutions_arq, cv_solutions_arq, get_embedding_labse)\n",
        "\n",
        "score_pos_dev_front_and_cv_ai_expert_openai = compute_cv_score(3, offer_front_dev, cv_ai_expert, get_embedding_openai)\n",
        "score_pos_dev_front_and_cv_ai_expert_labse = compute_cv_score(4, offer_front_dev, cv_ai_expert, get_embedding_openai)\n",
        "\n",
        "score_pos_dev_front_and_cv_sol_arq_openai = compute_cv_score(5, offer_front_dev, cv_solutions_arq, get_embedding_openai)\n",
        "score_pos_dev_front_and_cv_sol_arq_labse = compute_cv_score(6, offer_front_dev, cv_solutions_arq, get_embedding_labse)\n",
        "\n"
      ],
      "metadata": {
        "colab": {
          "base_uri": "https://localhost:8080/"
        },
        "id": "FeAmjh0La3fT",
        "outputId": "1e8afcde-03f7-43b4-fd13-4fd9a551f19a"
      },
      "execution_count": 11,
      "outputs": [
        {
          "output_type": "stream",
          "name": "stdout",
          "text": [
            "(1) Scoring calculated: 0.6998568413434434 [desc_score: 0.3311663245350104), requirement_score: 0.9999998383113302, task_score: 0.44541219093592077\n",
            "(2) Scoring calculated: 0.7638698157336976 [desc_score: 0.48285946249961853), requirement_score: 1.0000000529819064, task_score: 0.5576596558094025\n",
            "(3) Scoring calculated: 0.28007595141401415 [desc_score: 0.17361063117413789), requirement_score: 0.30350388034916553, task_score: 0.31200628334867936\n",
            "(4) Scoring calculated: 0.2800788866818923 [desc_score: 0.1736138425156153), requirement_score: 0.30350388034916553, task_score: 0.31201392668062167\n",
            "(5) Scoring calculated: 0.4013859961540517 [desc_score: 0.2799612844505718), requirement_score: 0.4730829377456374, task_score: 0.3628409013037287\n",
            "(6) Scoring calculated: 0.46121187284588816 [desc_score: 0.43248340487480164), requirement_score: 0.46216439455747604, task_score: 0.47877664864063263\n"
          ]
        }
      ]
    },
    {
      "cell_type": "code",
      "source": [],
      "metadata": {
        "id": "WcigxZL34sKA"
      },
      "execution_count": null,
      "outputs": []
    }
  ]
}